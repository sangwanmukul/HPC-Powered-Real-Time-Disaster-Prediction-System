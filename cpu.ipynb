{
  "nbformat": 4,
  "nbformat_minor": 0,
  "metadata": {
    "colab": {
      "provenance": []
    },
    "kernelspec": {
      "name": "python3",
      "display_name": "Python 3"
    },
    "language_info": {
      "name": "python"
    }
  },
  "cells": [
    {
      "cell_type": "code",
      "execution_count": 1,
      "metadata": {
        "colab": {
          "base_uri": "https://localhost:8080/"
        },
        "id": "P6-aD92MfkH-",
        "outputId": "06bba5f0-3455-43ec-ddb6-b04098fb95df"
      },
      "outputs": [
        {
          "output_type": "stream",
          "name": "stdout",
          "text": [
            "Mounted at /content/drive\n"
          ]
        }
      ],
      "source": [
        "from google.colab import drive\n",
        "drive.mount('/content/drive')"
      ]
    },
    {
      "cell_type": "code",
      "source": [
        "!pip install tensorflow"
      ],
      "metadata": {
        "colab": {
          "base_uri": "https://localhost:8080/"
        },
        "id": "dDRQHNriftmD",
        "outputId": "743b7f4c-a35c-4463-f826-eda2ab9049de"
      },
      "execution_count": 2,
      "outputs": [
        {
          "output_type": "stream",
          "name": "stdout",
          "text": [
            "Requirement already satisfied: tensorflow in /usr/local/lib/python3.11/dist-packages (2.18.0)\n",
            "Requirement already satisfied: absl-py>=1.0.0 in /usr/local/lib/python3.11/dist-packages (from tensorflow) (1.4.0)\n",
            "Requirement already satisfied: astunparse>=1.6.0 in /usr/local/lib/python3.11/dist-packages (from tensorflow) (1.6.3)\n",
            "Requirement already satisfied: flatbuffers>=24.3.25 in /usr/local/lib/python3.11/dist-packages (from tensorflow) (25.2.10)\n",
            "Requirement already satisfied: gast!=0.5.0,!=0.5.1,!=0.5.2,>=0.2.1 in /usr/local/lib/python3.11/dist-packages (from tensorflow) (0.6.0)\n",
            "Requirement already satisfied: google-pasta>=0.1.1 in /usr/local/lib/python3.11/dist-packages (from tensorflow) (0.2.0)\n",
            "Requirement already satisfied: libclang>=13.0.0 in /usr/local/lib/python3.11/dist-packages (from tensorflow) (18.1.1)\n",
            "Requirement already satisfied: opt-einsum>=2.3.2 in /usr/local/lib/python3.11/dist-packages (from tensorflow) (3.4.0)\n",
            "Requirement already satisfied: packaging in /usr/local/lib/python3.11/dist-packages (from tensorflow) (24.2)\n",
            "Requirement already satisfied: protobuf!=4.21.0,!=4.21.1,!=4.21.2,!=4.21.3,!=4.21.4,!=4.21.5,<6.0.0dev,>=3.20.3 in /usr/local/lib/python3.11/dist-packages (from tensorflow) (5.29.4)\n",
            "Requirement already satisfied: requests<3,>=2.21.0 in /usr/local/lib/python3.11/dist-packages (from tensorflow) (2.32.3)\n",
            "Requirement already satisfied: setuptools in /usr/local/lib/python3.11/dist-packages (from tensorflow) (75.2.0)\n",
            "Requirement already satisfied: six>=1.12.0 in /usr/local/lib/python3.11/dist-packages (from tensorflow) (1.17.0)\n",
            "Requirement already satisfied: termcolor>=1.1.0 in /usr/local/lib/python3.11/dist-packages (from tensorflow) (3.0.1)\n",
            "Requirement already satisfied: typing-extensions>=3.6.6 in /usr/local/lib/python3.11/dist-packages (from tensorflow) (4.13.2)\n",
            "Requirement already satisfied: wrapt>=1.11.0 in /usr/local/lib/python3.11/dist-packages (from tensorflow) (1.17.2)\n",
            "Requirement already satisfied: grpcio<2.0,>=1.24.3 in /usr/local/lib/python3.11/dist-packages (from tensorflow) (1.71.0)\n",
            "Requirement already satisfied: tensorboard<2.19,>=2.18 in /usr/local/lib/python3.11/dist-packages (from tensorflow) (2.18.0)\n",
            "Requirement already satisfied: keras>=3.5.0 in /usr/local/lib/python3.11/dist-packages (from tensorflow) (3.8.0)\n",
            "Requirement already satisfied: numpy<2.1.0,>=1.26.0 in /usr/local/lib/python3.11/dist-packages (from tensorflow) (2.0.2)\n",
            "Requirement already satisfied: h5py>=3.11.0 in /usr/local/lib/python3.11/dist-packages (from tensorflow) (3.13.0)\n",
            "Requirement already satisfied: ml-dtypes<0.5.0,>=0.4.0 in /usr/local/lib/python3.11/dist-packages (from tensorflow) (0.4.1)\n",
            "Requirement already satisfied: tensorflow-io-gcs-filesystem>=0.23.1 in /usr/local/lib/python3.11/dist-packages (from tensorflow) (0.37.1)\n",
            "Requirement already satisfied: wheel<1.0,>=0.23.0 in /usr/local/lib/python3.11/dist-packages (from astunparse>=1.6.0->tensorflow) (0.45.1)\n",
            "Requirement already satisfied: rich in /usr/local/lib/python3.11/dist-packages (from keras>=3.5.0->tensorflow) (13.9.4)\n",
            "Requirement already satisfied: namex in /usr/local/lib/python3.11/dist-packages (from keras>=3.5.0->tensorflow) (0.0.8)\n",
            "Requirement already satisfied: optree in /usr/local/lib/python3.11/dist-packages (from keras>=3.5.0->tensorflow) (0.15.0)\n",
            "Requirement already satisfied: charset-normalizer<4,>=2 in /usr/local/lib/python3.11/dist-packages (from requests<3,>=2.21.0->tensorflow) (3.4.1)\n",
            "Requirement already satisfied: idna<4,>=2.5 in /usr/local/lib/python3.11/dist-packages (from requests<3,>=2.21.0->tensorflow) (3.10)\n",
            "Requirement already satisfied: urllib3<3,>=1.21.1 in /usr/local/lib/python3.11/dist-packages (from requests<3,>=2.21.0->tensorflow) (2.3.0)\n",
            "Requirement already satisfied: certifi>=2017.4.17 in /usr/local/lib/python3.11/dist-packages (from requests<3,>=2.21.0->tensorflow) (2025.1.31)\n",
            "Requirement already satisfied: markdown>=2.6.8 in /usr/local/lib/python3.11/dist-packages (from tensorboard<2.19,>=2.18->tensorflow) (3.8)\n",
            "Requirement already satisfied: tensorboard-data-server<0.8.0,>=0.7.0 in /usr/local/lib/python3.11/dist-packages (from tensorboard<2.19,>=2.18->tensorflow) (0.7.2)\n",
            "Requirement already satisfied: werkzeug>=1.0.1 in /usr/local/lib/python3.11/dist-packages (from tensorboard<2.19,>=2.18->tensorflow) (3.1.3)\n",
            "Requirement already satisfied: MarkupSafe>=2.1.1 in /usr/local/lib/python3.11/dist-packages (from werkzeug>=1.0.1->tensorboard<2.19,>=2.18->tensorflow) (3.0.2)\n",
            "Requirement already satisfied: markdown-it-py>=2.2.0 in /usr/local/lib/python3.11/dist-packages (from rich->keras>=3.5.0->tensorflow) (3.0.0)\n",
            "Requirement already satisfied: pygments<3.0.0,>=2.13.0 in /usr/local/lib/python3.11/dist-packages (from rich->keras>=3.5.0->tensorflow) (2.18.0)\n",
            "Requirement already satisfied: mdurl~=0.1 in /usr/local/lib/python3.11/dist-packages (from markdown-it-py>=2.2.0->rich->keras>=3.5.0->tensorflow) (0.1.2)\n"
          ]
        }
      ]
    },
    {
      "cell_type": "code",
      "source": [
        "# 📦 Step 1: Load datasets\n",
        "import pandas as pd\n",
        "import numpy as np\n",
        "import time\n",
        "import tensorflow as tf\n",
        "\n",
        "print(\"🔎 TensorFlow version:\", tf.__version__)\n",
        "\n",
        "# Force CPU strategy\n",
        "print(\"💻 Running on CPU!\")\n",
        "strategy = tf.distribute.OneDeviceStrategy(device=\"/cpu:0\")\n",
        "\n",
        "# Load datasets\n",
        "raw_df = pd.read_csv('/content/drive/MyDrive/natural_disasters_2024.csv')\n",
        "geo_df = pd.read_csv('/content/drive/MyDrive/cleaned_disasters.csv')\n",
        "print(\"✅ Datasets loaded from Google Drive\")\n",
        "\n",
        "# 🛠️ Step 2: Preprocess\n",
        "raw_df.columns = raw_df.columns.str.strip()\n",
        "geo_df.columns = geo_df.columns.str.strip()\n",
        "\n",
        "# Ensure float types\n",
        "for col in ['Latitude', 'Longitude', 'Magnitude', 'Severity']:\n",
        "    if col in geo_df.columns:\n",
        "        geo_df[col] = geo_df[col].astype(np.float32)\n",
        "    if col in raw_df.columns:\n",
        "        raw_df[col] = raw_df[col].astype(np.float32)\n",
        "\n",
        "print(\"⚙️ Pandas DataFrames ready\")\n",
        "\n",
        "# 🧠 Step 3: Train TensorFlow DNN\n",
        "X_train = geo_df[['Latitude', 'Longitude', 'Magnitude']].values\n",
        "y_train = geo_df['Severity'].values\n",
        "\n",
        "with strategy.scope():\n",
        "    model = tf.keras.Sequential([\n",
        "        tf.keras.layers.Dense(64, activation='relu', input_shape=(3,)),\n",
        "        tf.keras.layers.Dense(32, activation='relu'),\n",
        "        tf.keras.layers.Dense(1)  # Regression output\n",
        "    ])\n",
        "    model.compile(optimizer='adam', loss='mse')\n",
        "    model.fit(X_train, y_train, epochs=20, batch_size=32, verbose=1)\n",
        "\n",
        "model.save('trained_dnn_model.keras')\n",
        "print(\"✅ TensorFlow DNN model trained and saved\")\n",
        "\n",
        "# 📡 Step 4: Simulate streaming data\n",
        "# Randomly generate Latitude, Longitude without cupy (using numpy)\n",
        "stream_batch = raw_df.sample(n=10000).reset_index(drop=True)\n",
        "\n",
        "np.random.seed(42)\n",
        "stream_batch['Latitude'] = np.random.uniform(-90, 90, size=len(stream_batch))\n",
        "stream_batch['Longitude'] = np.random.uniform(-180, 180, size=len(stream_batch))\n",
        "stream_batch['Magnitude'] = stream_batch['Magnitude'].astype(np.float32)\n",
        "\n",
        "X_stream = stream_batch[['Latitude', 'Longitude', 'Magnitude']].values\n",
        "\n",
        "records = stream_batch.to_dict(orient='records')\n",
        "success_count = 0\n",
        "failure_count = 0\n",
        "send_times = []\n",
        "total_bytes_sent = 0\n",
        "\n",
        "start_time = time.time()\n",
        "\n",
        "for idx, record in enumerate(records):\n",
        "    try:\n",
        "        # Predict Severity\n",
        "        features = np.array([[record['Latitude'], record['Longitude'], record['Magnitude']]])\n",
        "        pred = model.predict(features, verbose=0)[0][0]\n",
        "        record['Predicted_Severity'] = float(pred)\n",
        "\n",
        "        # Simulate sending\n",
        "        t0 = time.time()\n",
        "        size = len(str(record).encode('utf-8'))\n",
        "        time.sleep(0.01)  # Artificial latency\n",
        "        t1 = time.time()\n",
        "\n",
        "        send_times.append(t1 - t0)\n",
        "        total_bytes_sent += size\n",
        "        success_count += 1\n",
        "    except Exception as e:\n",
        "        failure_count += 1\n",
        "\n",
        "end_time = time.time()\n",
        "\n",
        "# ⏱️ Step 5: Calculate Metrics\n",
        "total_time = end_time - start_time\n",
        "avg_speed = success_count / total_time if total_time > 0 else 0\n",
        "throughput = total_bytes_sent / total_time if total_time > 0 else 0\n",
        "min_send = min(send_times) if send_times else 0\n",
        "max_send = max(send_times) if send_times else 0\n",
        "mean_send = np.mean(send_times) if send_times else 0\n",
        "median_send = np.median(send_times) if send_times else 0\n",
        "std_send = np.std(send_times) if send_times else 0\n",
        "\n",
        "# 📢 Step 6: Print Metrics\n",
        "print(f\"🔢 Total Records: {len(records)}\")\n",
        "print(f\"✅ Successfully Sent: {success_count}\")\n",
        "print(f\"❌ Failed Sends: {failure_count}\")\n",
        "print(f\"⏱️ Total Time Taken: {total_time:.2f} seconds\")\n",
        "print(f\"⚡ Average Send Speed: {avg_speed:.2f} records/second\")\n",
        "print(f\"📦 Total Data Sent: {total_bytes_sent / 1024:.2f} KB\")\n",
        "print(f\"🚀 Throughput: {throughput:.2f} bytes/second\")\n",
        "print(f\"📈 Min Send Time: {min_send:.4f} sec\")\n",
        "print(f\"📉 Max Send Time: {max_send:.4f} sec\")\n",
        "print(f\"📊 Mean Send Time: {mean_send:.4f} sec\")\n",
        "print(f\"📏 Median Send Time: {median_send:.4f} sec\")\n",
        "print(f\"📐 Std Dev Send Time: {std_send:.4f} sec\")\n",
        "\n",
        "# 🚨 Step 7: Save critical alerts\n",
        "final_df = pd.DataFrame(records)\n",
        "alerts = final_df[final_df['Predicted_Severity'] > 8]\n",
        "\n",
        "if len(alerts) > 0:\n",
        "    alerts_path = \"/content/critical_alerts.csv\"\n",
        "    alerts.to_csv(alerts_path, index=False)\n",
        "    print(f\"⚠️ Critical alerts saved to {alerts_path}\")\n",
        "    from google.colab import files\n",
        "    files.download(alerts_path)\n",
        "else:\n",
        "    print(\"✅ No critical alerts found.\")\n"
      ],
      "metadata": {
        "colab": {
          "base_uri": "https://localhost:8080/",
          "height": 1000
        },
        "id": "PVLFrMiBflCR",
        "outputId": "e380dd1c-8c36-45d2-8c90-5d5a843a5866"
      },
      "execution_count": 3,
      "outputs": [
        {
          "output_type": "stream",
          "name": "stdout",
          "text": [
            "🔎 TensorFlow version: 2.18.0\n",
            "💻 Running on CPU!\n",
            "✅ Datasets loaded from Google Drive\n",
            "⚙️ Pandas DataFrames ready\n"
          ]
        },
        {
          "output_type": "stream",
          "name": "stderr",
          "text": [
            "/usr/local/lib/python3.11/dist-packages/keras/src/layers/core/dense.py:87: UserWarning: Do not pass an `input_shape`/`input_dim` argument to a layer. When using Sequential models, prefer using an `Input(shape)` object as the first layer in the model instead.\n",
            "  super().__init__(activity_regularizer=activity_regularizer, **kwargs)\n"
          ]
        },
        {
          "output_type": "stream",
          "name": "stdout",
          "text": [
            "Epoch 1/20\n",
            "\u001b[1m313/313\u001b[0m \u001b[32m━━━━━━━━━━━━━━━━━━━━\u001b[0m\u001b[37m\u001b[0m \u001b[1m1s\u001b[0m 3ms/step - loss: 25.0128\n",
            "Epoch 2/20\n",
            "\u001b[1m313/313\u001b[0m \u001b[32m━━━━━━━━━━━━━━━━━━━━\u001b[0m\u001b[37m\u001b[0m \u001b[1m1s\u001b[0m 3ms/step - loss: 0.6882\n",
            "Epoch 3/20\n",
            "\u001b[1m313/313\u001b[0m \u001b[32m━━━━━━━━━━━━━━━━━━━━\u001b[0m\u001b[37m\u001b[0m \u001b[1m1s\u001b[0m 2ms/step - loss: 0.6255\n",
            "Epoch 4/20\n",
            "\u001b[1m313/313\u001b[0m \u001b[32m━━━━━━━━━━━━━━━━━━━━\u001b[0m\u001b[37m\u001b[0m \u001b[1m1s\u001b[0m 3ms/step - loss: 0.6379\n",
            "Epoch 5/20\n",
            "\u001b[1m313/313\u001b[0m \u001b[32m━━━━━━━━━━━━━━━━━━━━\u001b[0m\u001b[37m\u001b[0m \u001b[1m2s\u001b[0m 3ms/step - loss: 0.5940\n",
            "Epoch 6/20\n",
            "\u001b[1m313/313\u001b[0m \u001b[32m━━━━━━━━━━━━━━━━━━━━\u001b[0m\u001b[37m\u001b[0m \u001b[1m1s\u001b[0m 4ms/step - loss: 0.6601\n",
            "Epoch 7/20\n",
            "\u001b[1m313/313\u001b[0m \u001b[32m━━━━━━━━━━━━━━━━━━━━\u001b[0m\u001b[37m\u001b[0m \u001b[1m2s\u001b[0m 4ms/step - loss: 0.6602\n",
            "Epoch 8/20\n",
            "\u001b[1m313/313\u001b[0m \u001b[32m━━━━━━━━━━━━━━━━━━━━\u001b[0m\u001b[37m\u001b[0m \u001b[1m1s\u001b[0m 3ms/step - loss: 0.6286\n",
            "Epoch 9/20\n",
            "\u001b[1m313/313\u001b[0m \u001b[32m━━━━━━━━━━━━━━━━━━━━\u001b[0m\u001b[37m\u001b[0m \u001b[1m1s\u001b[0m 3ms/step - loss: 0.7172\n",
            "Epoch 10/20\n",
            "\u001b[1m313/313\u001b[0m \u001b[32m━━━━━━━━━━━━━━━━━━━━\u001b[0m\u001b[37m\u001b[0m \u001b[1m1s\u001b[0m 3ms/step - loss: 0.6722\n",
            "Epoch 11/20\n",
            "\u001b[1m313/313\u001b[0m \u001b[32m━━━━━━━━━━━━━━━━━━━━\u001b[0m\u001b[37m\u001b[0m \u001b[1m1s\u001b[0m 3ms/step - loss: 0.6125\n",
            "Epoch 12/20\n",
            "\u001b[1m313/313\u001b[0m \u001b[32m━━━━━━━━━━━━━━━━━━━━\u001b[0m\u001b[37m\u001b[0m \u001b[1m1s\u001b[0m 3ms/step - loss: 0.6317\n",
            "Epoch 13/20\n",
            "\u001b[1m313/313\u001b[0m \u001b[32m━━━━━━━━━━━━━━━━━━━━\u001b[0m\u001b[37m\u001b[0m \u001b[1m1s\u001b[0m 3ms/step - loss: 0.6359\n",
            "Epoch 14/20\n",
            "\u001b[1m313/313\u001b[0m \u001b[32m━━━━━━━━━━━━━━━━━━━━\u001b[0m\u001b[37m\u001b[0m \u001b[1m1s\u001b[0m 3ms/step - loss: 0.6061\n",
            "Epoch 15/20\n",
            "\u001b[1m313/313\u001b[0m \u001b[32m━━━━━━━━━━━━━━━━━━━━\u001b[0m\u001b[37m\u001b[0m \u001b[1m1s\u001b[0m 3ms/step - loss: 0.6025\n",
            "Epoch 16/20\n",
            "\u001b[1m313/313\u001b[0m \u001b[32m━━━━━━━━━━━━━━━━━━━━\u001b[0m\u001b[37m\u001b[0m \u001b[1m1s\u001b[0m 3ms/step - loss: 0.7806\n",
            "Epoch 17/20\n",
            "\u001b[1m313/313\u001b[0m \u001b[32m━━━━━━━━━━━━━━━━━━━━\u001b[0m\u001b[37m\u001b[0m \u001b[1m1s\u001b[0m 4ms/step - loss: 0.6190\n",
            "Epoch 18/20\n",
            "\u001b[1m313/313\u001b[0m \u001b[32m━━━━━━━━━━━━━━━━━━━━\u001b[0m\u001b[37m\u001b[0m \u001b[1m2s\u001b[0m 4ms/step - loss: 0.5966\n",
            "Epoch 19/20\n",
            "\u001b[1m313/313\u001b[0m \u001b[32m━━━━━━━━━━━━━━━━━━━━\u001b[0m\u001b[37m\u001b[0m \u001b[1m1s\u001b[0m 3ms/step - loss: 0.6161\n",
            "Epoch 20/20\n",
            "\u001b[1m313/313\u001b[0m \u001b[32m━━━━━━━━━━━━━━━━━━━━\u001b[0m\u001b[37m\u001b[0m \u001b[1m1s\u001b[0m 3ms/step - loss: 0.6107\n",
            "✅ TensorFlow DNN model trained and saved\n",
            "🔢 Total Records: 10000\n",
            "✅ Successfully Sent: 10000\n",
            "❌ Failed Sends: 0\n",
            "⏱️ Total Time Taken: 2656.07 seconds\n",
            "⚡ Average Send Speed: 3.76 records/second\n",
            "📦 Total Data Sent: 2920.99 KB\n",
            "🚀 Throughput: 1126.14 bytes/second\n",
            "📈 Min Send Time: 0.0101 sec\n",
            "📉 Max Send Time: 0.0126 sec\n",
            "📊 Mean Send Time: 0.0102 sec\n",
            "📏 Median Send Time: 0.0101 sec\n",
            "📐 Std Dev Send Time: 0.0001 sec\n",
            "⚠️ Critical alerts saved to /content/critical_alerts.csv\n"
          ]
        },
        {
          "output_type": "display_data",
          "data": {
            "text/plain": [
              "<IPython.core.display.Javascript object>"
            ],
            "application/javascript": [
              "\n",
              "    async function download(id, filename, size) {\n",
              "      if (!google.colab.kernel.accessAllowed) {\n",
              "        return;\n",
              "      }\n",
              "      const div = document.createElement('div');\n",
              "      const label = document.createElement('label');\n",
              "      label.textContent = `Downloading \"${filename}\": `;\n",
              "      div.appendChild(label);\n",
              "      const progress = document.createElement('progress');\n",
              "      progress.max = size;\n",
              "      div.appendChild(progress);\n",
              "      document.body.appendChild(div);\n",
              "\n",
              "      const buffers = [];\n",
              "      let downloaded = 0;\n",
              "\n",
              "      const channel = await google.colab.kernel.comms.open(id);\n",
              "      // Send a message to notify the kernel that we're ready.\n",
              "      channel.send({})\n",
              "\n",
              "      for await (const message of channel.messages) {\n",
              "        // Send a message to notify the kernel that we're ready.\n",
              "        channel.send({})\n",
              "        if (message.buffers) {\n",
              "          for (const buffer of message.buffers) {\n",
              "            buffers.push(buffer);\n",
              "            downloaded += buffer.byteLength;\n",
              "            progress.value = downloaded;\n",
              "          }\n",
              "        }\n",
              "      }\n",
              "      const blob = new Blob(buffers, {type: 'application/binary'});\n",
              "      const a = document.createElement('a');\n",
              "      a.href = window.URL.createObjectURL(blob);\n",
              "      a.download = filename;\n",
              "      div.appendChild(a);\n",
              "      a.click();\n",
              "      div.remove();\n",
              "    }\n",
              "  "
            ]
          },
          "metadata": {}
        },
        {
          "output_type": "display_data",
          "data": {
            "text/plain": [
              "<IPython.core.display.Javascript object>"
            ],
            "application/javascript": [
              "download(\"download_0e98bad5-ace1-41d6-99ad-0bcd1125e997\", \"critical_alerts.csv\", 325536)"
            ]
          },
          "metadata": {}
        }
      ]
    }
  ]
}